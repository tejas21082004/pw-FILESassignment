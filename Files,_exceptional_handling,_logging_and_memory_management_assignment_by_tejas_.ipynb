{
  "nbformat": 4,
  "nbformat_minor": 0,
  "metadata": {
    "colab": {
      "provenance": []
    },
    "kernelspec": {
      "name": "python3",
      "display_name": "Python 3"
    },
    "language_info": {
      "name": "python"
    }
  },
  "cells": [
    {
      "cell_type": "code",
      "execution_count": null,
      "metadata": {
        "id": "w5MMGjpCU2QA"
      },
      "outputs": [],
      "source": []
    },
    {
      "cell_type": "markdown",
      "source": [
        "Files, exceptional handling, logging and    memory management assignment by tejas pwskills.datanalytics"
      ],
      "metadata": {
        "id": "5g3bB1LwWuJV"
      }
    },
    {
      "cell_type": "markdown",
      "source": [
        "#Q1 What is the difference between interpreted and compiled languages\n",
        "\n",
        "\n",
        ""
      ],
      "metadata": {
        "id": "ONICoaOIVUzP"
      }
    },
    {
      "cell_type": "markdown",
      "source": [
        "Interpreted languages are executed line-by-line by an interpreter. Python is an interpreted language, meaning the Python code is executed directly without needing to be compiled into machine code beforehand.\n",
        "\n",
        "Compiled languages are first translated into machine code (binary format) by a compiler before execution. Languages like C and C++ are compiled languages."
      ],
      "metadata": {
        "id": "xKr2eHHSVmZM"
      }
    },
    {
      "cell_type": "markdown",
      "source": [],
      "metadata": {
        "id": "IkeBNOmcVpvE"
      }
    },
    {
      "cell_type": "markdown",
      "source": [
        "#Q2 What is exception handling in Python"
      ],
      "metadata": {
        "id": "fiNmNExoV6L1"
      }
    },
    {
      "cell_type": "markdown",
      "source": [
        "Exception handling in Python refers to managing errors or exceptional conditions that arise during program execution. Python uses try, except, else, and finally blocks to handle exceptions."
      ],
      "metadata": {
        "id": "9k-dRlHKWFNo"
      }
    },
    {
      "cell_type": "code",
      "source": [],
      "metadata": {
        "id": "ngHoiSX0Vfby"
      },
      "execution_count": null,
      "outputs": []
    },
    {
      "cell_type": "markdown",
      "source": [
        "# Q3What is the purpose of the finally block in exception handling"
      ],
      "metadata": {
        "id": "GTGRPdasWELg"
      }
    },
    {
      "cell_type": "markdown",
      "source": [
        "The finally block is used to execute code that must run regardless of whether an exception occurred or not, such as releasing resources, closing files, or closing database connections."
      ],
      "metadata": {
        "id": "B_nu3YPDWQl2"
      }
    },
    {
      "cell_type": "code",
      "source": [],
      "metadata": {
        "id": "mZqkPEXEWPPl"
      },
      "execution_count": null,
      "outputs": []
    },
    {
      "cell_type": "markdown",
      "source": [
        "#Q4What is logging in Python"
      ],
      "metadata": {
        "id": "hztSkTI6WV0T"
      }
    },
    {
      "cell_type": "code",
      "source": [],
      "metadata": {
        "id": "eAWTYZPHWerc"
      },
      "execution_count": null,
      "outputs": []
    },
    {
      "cell_type": "markdown",
      "source": [
        "Logging is a way to record information, warnings, and errors that occur in a program. The logging module allows you to track events during the execution of a program, which helps in debugging and monitoring. It provides various log levels (e.g., DEBUG, INFO, WARNING, ERROR, CRITICAL)."
      ],
      "metadata": {
        "id": "-uR9KWq5WfP5"
      }
    },
    {
      "cell_type": "markdown",
      "source": [
        "#Q5 What is the significance of the __del__ method in Python"
      ],
      "metadata": {
        "id": "rBjOxhkHW5S1"
      }
    },
    {
      "cell_type": "markdown",
      "source": [
        "The __del__ method is a special method used for object destruction. It is called when an object is about to be destroyed, typically when it goes out of scope or is deleted. It's commonly used for cleanup operations, like closing files or network connections"
      ],
      "metadata": {
        "id": "qKoD0B4fY6um"
      }
    },
    {
      "cell_type": "markdown",
      "source": [
        "#Q6What is the difference between import and from ... import in Python"
      ],
      "metadata": {
        "id": "UCILA6SRW50A"
      }
    },
    {
      "cell_type": "markdown",
      "source": [
        "import module_name: This imports the entire module, and you need to reference the module by its name to access its functions or classes (e.g., math.sqrt(16))\n",
        "\n",
        "from module_name import function_name: This imports only the specific function or class from a module, so you can use it directly without the module prefix (e.g., sqrt(16))."
      ],
      "metadata": {
        "id": "aql71sSyY_jw"
      }
    },
    {
      "cell_type": "markdown",
      "source": [
        "#Q7How can you handle multiple exceptions in Python"
      ],
      "metadata": {
        "id": "eVpXUKcYW6DX"
      }
    },
    {
      "cell_type": "markdown",
      "source": [
        "Multiple exceptions can be handled in Python by using multiple except blocks, or by specifying multiple exception types in a single except block (e.g., except (TypeError, ValueError))."
      ],
      "metadata": {
        "id": "p6MSnHtwZOcb"
      }
    },
    {
      "cell_type": "markdown",
      "source": [
        "#Q8What is the purpose of the with statement when handling files in Python"
      ],
      "metadata": {
        "id": "3HCSH59tW6PL"
      }
    },
    {
      "cell_type": "markdown",
      "source": [
        "The with statement simplifies file handling by automatically closing the file after it is used, even if an exception occurs. This ensures that resources are properly cleaned up."
      ],
      "metadata": {
        "id": "9p4BeqMoZR27"
      }
    },
    {
      "cell_type": "code",
      "source": [
        "\n"
      ],
      "metadata": {
        "id": "5BFwcwrtZWcS"
      },
      "execution_count": null,
      "outputs": []
    },
    {
      "cell_type": "markdown",
      "source": [
        "#Q9What is the difference between multithreading and multiprocessing"
      ],
      "metadata": {
        "id": "7EglLfC2W7aL"
      }
    },
    {
      "cell_type": "markdown",
      "source": [
        "Multithreading: Involves multiple threads within a single process. Threads share the same memory space and can run concurrently, but they are subject to Python's Global Interpreter Lock (GIL), limiting parallel execution in CPU-bound tasks.\n",
        "\n",
        "\n",
        "Multiprocessing: Involves multiple processes with separate memory spaces. It allows for true parallelism, making it suitable for CPU-bound tasks."
      ],
      "metadata": {
        "id": "kESr8l7iZZ5-"
      }
    },
    {
      "cell_type": "markdown",
      "source": [
        "#Q10What are the advantages of using logging in a program"
      ],
      "metadata": {
        "id": "KLct3AzmW7pd"
      }
    },
    {
      "cell_type": "markdown",
      "source": [
        "Debugging: Helps trace the flow of execution and identify issues.\n",
        "Error\n",
        "\n",
        " Reporting: Logs can report errors and provide detailed stack traces.\n",
        "\n",
        "\n",
        "Monitoring: Logs can track performance and behavior over time, helpful in production systems.\n",
        "\n",
        "\n",
        "Persistence: Logs can be stored in files, databases, or remote services for analysis."
      ],
      "metadata": {
        "id": "QgWaJIk0Zeag"
      }
    },
    {
      "cell_type": "markdown",
      "source": [
        "#Q11What is memory management in Python"
      ],
      "metadata": {
        "id": "BF7SekmWW72I"
      }
    },
    {
      "cell_type": "markdown",
      "source": [
        "Python uses automatic memory management with a built-in garbage collection system that keeps track of and frees memory that is no longer in use"
      ],
      "metadata": {
        "id": "_BAFYOO6Zm3o"
      }
    },
    {
      "cell_type": "markdown",
      "source": [
        "#Q12What are the basic steps involved in exception handling in Python"
      ],
      "metadata": {
        "id": "fq0tec0EW8C-"
      }
    },
    {
      "cell_type": "markdown",
      "source": [
        "Try block: Wrap the code that might raise an exception.\n",
        "\n",
        "\n",
        "Except block: Specify how to handle specific exceptions.\n",
        "\n",
        "\n",
        "Else block: Execute code if no exception is raised.\n",
        "\n",
        "Finally block: Execute cleanup code, regardless of exception status."
      ],
      "metadata": {
        "id": "t4Imx_9XZp-q"
      }
    },
    {
      "cell_type": "markdown",
      "source": [
        "#Q13Why is memory management important in Python"
      ],
      "metadata": {
        "id": "d4_Hee39W8Rl"
      }
    },
    {
      "cell_type": "markdown",
      "source": [
        "Proper memory management ensures that programs are efficient and do not waste resources. Unused memory or memory leaks can slow down the system and lead to crashes. Python handles memory management automatically but still requires developer awareness to avoid excessive memory use."
      ],
      "metadata": {
        "id": "zzf5KgA1ZwlG"
      }
    },
    {
      "cell_type": "markdown",
      "source": [
        "#Q14What is the role of try and except in exception handling"
      ],
      "metadata": {
        "id": "9BNR1_O5W8fF"
      }
    },
    {
      "cell_type": "markdown",
      "source": [
        "The try block contains code that may raise an exception. The except block catches and handles the exception if it occurs, preventing the program from crashing."
      ],
      "metadata": {
        "id": "0rgw7Q8sZz5s"
      }
    },
    {
      "cell_type": "markdown",
      "source": [
        "#Q15How does Python's garbage collection system work"
      ],
      "metadata": {
        "id": "c4r3uWTUW8r7"
      }
    },
    {
      "cell_type": "markdown",
      "source": [
        "Python uses reference counting and a cyclic garbage collector to manage memory. When an object's reference count drops to zero (no longer in use), the memory is deallocated. The garbage collector handles circular references that reference counting alone cannot clean up."
      ],
      "metadata": {
        "id": "zugErFm-Z3Qg"
      }
    },
    {
      "cell_type": "markdown",
      "source": [
        "#Q16What is the purpose of the else block in exception handling"
      ],
      "metadata": {
        "id": "N6rGHNZeW84V"
      }
    },
    {
      "cell_type": "markdown",
      "source": [
        "The else block runs if no exception is raised in the try block. It is used to execute code that should run when the try block completes successfully."
      ],
      "metadata": {
        "id": "WZOSImRLZ6ch"
      }
    },
    {
      "cell_type": "markdown",
      "source": [
        "#Q17What are the common logging levels in Python"
      ],
      "metadata": {
        "id": "k1YWLEDqW9E1"
      }
    },
    {
      "cell_type": "markdown",
      "source": [
        "The logging module provides several levels of logging, from most detailed to least:\n",
        "\n",
        "DEBUG: Detailed information, typically useful only for diagnosing problems.\n",
        "\n",
        "INFO: General information about program execution.\n",
        "\n",
        "\n",
        "WARNING: Indicates something unexpected, but the program can continue.\n",
        "\n",
        "\n",
        "ERROR: Indicates a problem that prevents a function from working correctly.\n",
        "\n",
        "CRITICAL: A very serious error that may cause the program to crash."
      ],
      "metadata": {
        "id": "YilIoYnZZ9Or"
      }
    },
    {
      "cell_type": "markdown",
      "source": [
        "#Q18What is the difference between os.fork() and multiprocessing in Python"
      ],
      "metadata": {
        "id": "mfqcT8LnW9Qx"
      }
    },
    {
      "cell_type": "markdown",
      "source": [
        "os.fork(): Creates a child process by duplicating the calling process. It’s a low-level function and generally used in Unix-based systems. It doesn't easily support Python's memory management and garbage collection mechanisms.\n",
        "Multiprocessing: The multiprocessing module is a higher-level abstraction that allows spawning multiple processes with separate memory spaces. It is more flexible, portable, and supports better communication and synchronization between processes."
      ],
      "metadata": {
        "id": "SPEE-XMUaFlL"
      }
    },
    {
      "cell_type": "markdown",
      "source": [
        "#Q19What is the importance of closing a file in Python"
      ],
      "metadata": {
        "id": "q5mM6mbmW9cr"
      }
    },
    {
      "cell_type": "markdown",
      "source": [
        "Releasing Resources: When a file is opened, system resources (such as file handles) are used. Closing the file ensures that these resources are properly released, preventing potential memory leaks or issues when opening new files.\n",
        "\n",
        "\n",
        "Data Integrity: If a file is not closed, any buffered data may not be written to the disk, which can lead to data loss. Closing the file ensures that all changes are committed.\n",
        "\n",
        "\n",
        "File Locking: In some systems, files may be locked when opened, and closing them releases this lock, allowing other processes to access the file."
      ],
      "metadata": {
        "id": "Y2M6JIwcasBI"
      }
    },
    {
      "cell_type": "markdown",
      "source": [
        "#Q20What is the difference between file.read() and file.readline() in Python"
      ],
      "metadata": {
        "id": "VNU2NjWhW9pQ"
      }
    },
    {
      "cell_type": "markdown",
      "source": [
        "file.read(): Reads the entire content of the file as a single string, including newlines. This is useful when you need to load the entire file content into memory.\n",
        "\n",
        "file.readline(): Reads one line at a time from the file. It includes the newline character at the end of each line. It’s useful for reading large files line by line, without loading the entire file into memory at once.\n",
        "python\n",
        "Copy code\n"
      ],
      "metadata": {
        "id": "3Vr6rzVKax8N"
      }
    },
    {
      "cell_type": "markdown",
      "source": [
        "#Q21What is the logging module in Python used for"
      ],
      "metadata": {
        "id": "IBe1yVpUW91E"
      }
    },
    {
      "cell_type": "markdown",
      "source": [
        "The logging module in Python is used for tracking and recording events, errors, and other information during the execution of a program. It provides a way to log messages with different severity levels, such as:\n",
        "\n",
        "DEBUG: Detailed information for debugging.\n",
        "\n",
        "\n",
        "INFO: General information about the program's operation.\n",
        "\n",
        "\n",
        "WARNING: Warnings about potential problems.\n",
        "\n",
        "\n",
        "ERROR: Errors that occur during execution.\n",
        "\n",
        "\n",
        "CRITICAL: Severe errors that may prevent the program from continuing."
      ],
      "metadata": {
        "id": "50_7klI3a5HI"
      }
    },
    {
      "cell_type": "markdown",
      "source": [
        "#Q22What is the os module in Python used for in file handling"
      ],
      "metadata": {
        "id": "Bmksaq2jW9_l"
      }
    },
    {
      "cell_type": "markdown",
      "source": [
        "The os module in Python provides a way to interact with the operating system and perform various file-handling operations. It allows you to:\n",
        "\n",
        "Navigate directories: Use functions like os.chdir(), os.getcwd(), and os.listdir() to change directories, get the current directory, and list directory contents.\n",
        "\n",
        "\n",
        "File operations: Create, remove, and rename files using functions like os.remove(), os.rename(), and os.makedirs().\n",
        "\n",
        "\n",
        "File properties: Use os.stat() to get information about a file, such as size and modification time.\n",
        "\n",
        "Permissions: Change file permissions using os.chmod()."
      ],
      "metadata": {
        "id": "kw9z9VHQbCt8"
      }
    },
    {
      "cell_type": "markdown",
      "source": [
        "#Q23What are the challenges associated with memory management in Python"
      ],
      "metadata": {
        "id": "YOH5KOntW-Kv"
      }
    },
    {
      "cell_type": "markdown",
      "source": [
        "Garbage Collection: While Python has automatic garbage collection, issues like circular references (objects referring to each other) can cause memory to not be freed as expected, leading to memory leaks.\n",
        "\n",
        "Memory Overhead: Python’s memory management system adds some overhead due to features like dynamic typing and automatic reference counting, which can lead to higher memory usage compared to lower-level languages.\n",
        "\n",
        "Large Data Structures: Handling large data sets (such as large lists or dictionaries) can cause significant memory consumption, especially if they are not optimized.\n",
        "\n",
        "Limited Control: Python’s memory management is abstracted away, so developers have limited control over the memory allocation and deallocation process, which may hinder optimization in certain cases."
      ],
      "metadata": {
        "id": "dMWIG9Z6bLW6"
      }
    },
    {
      "cell_type": "markdown",
      "source": [
        "#Q24What are the challenges associated with memory management in Python"
      ],
      "metadata": {
        "id": "PEhTG6E2W-VG"
      }
    },
    {
      "cell_type": "markdown",
      "source": [
        "In Python, exceptions can be raised manually using the raise statement. This is typically done when you want to signal an error condition in your program."
      ],
      "metadata": {
        "id": "o6jlWhsgbUSF"
      }
    },
    {
      "cell_type": "code",
      "source": [
        "raise ValueError(\"This is a custom error message.\")\n"
      ],
      "metadata": {
        "id": "SyNfE7QubcDf"
      },
      "execution_count": null,
      "outputs": []
    },
    {
      "cell_type": "markdown",
      "source": [
        "#Q25Why is it important to use multithreading in certain applications"
      ],
      "metadata": {
        "id": "loukB_1SW-fS"
      }
    },
    {
      "cell_type": "markdown",
      "source": [
        "Multithreading allows a program to execute multiple tasks concurrently within a single process. It is particularly useful in scenarios where:\n",
        "\n",
        "Concurrency: Tasks such as network communication or user interface updates can run concurrently with other operations, improving the responsiveness of the application.\n",
        "\n",
        "I/O-bound tasks: Multithreading is ideal for I/O-bound tasks (e.g., file reading/writing, web requests) because while one thread waits for I/O operations to complete, other threads can continue executing.\n",
        "\n",
        "Real-time processing: Multithreading can be used for tasks that need to respond in real-time, like monitoring systems or games that need to handle inputs or events in parallel with computation.\n",
        "However, multithreading in Python is limited by the Global Interpreter Lock (GIL), which restricts the concurrent execution of threads for CPU-bound tasks. For CPU-bound tasks, multiprocessing is typically a better choice."
      ],
      "metadata": {
        "id": "6N7vju03bfnQ"
      }
    },
    {
      "cell_type": "markdown",
      "source": [
        "#PRACTICAL QUESTIONS"
      ],
      "metadata": {
        "id": "04zc2CRIbr12"
      }
    },
    {
      "cell_type": "markdown",
      "source": [
        "#Q1How can you open a file for writing in Python and write a string to it\n",
        "\n",
        ""
      ],
      "metadata": {
        "id": "VXUjWVVGcROP"
      }
    },
    {
      "cell_type": "code",
      "source": [
        "with open('file.txt', 'w') as file:\n",
        "    file.write(\"This is a test string.\")\n"
      ],
      "metadata": {
        "id": "MfzEi-rEfjGK"
      },
      "execution_count": 2,
      "outputs": []
    },
    {
      "cell_type": "markdown",
      "source": [
        "#Q2Write a Python program to read the contents of a file and print each line"
      ],
      "metadata": {
        "id": "9qRtdo3Kd8wE"
      }
    },
    {
      "cell_type": "code",
      "source": [
        "with open('file.txt', 'r') as file:\n",
        "    for line in file:\n",
        "        print(line)\n"
      ],
      "metadata": {
        "colab": {
          "base_uri": "https://localhost:8080/"
        },
        "id": "wx5Lebesfj3I",
        "outputId": "77e9b925-04e3-406a-a6ce-475c317e06e6"
      },
      "execution_count": 3,
      "outputs": [
        {
          "output_type": "stream",
          "name": "stdout",
          "text": [
            "This is a test string.\n"
          ]
        }
      ]
    },
    {
      "cell_type": "markdown",
      "source": [
        "#Q3How would you handle a case where the file doesn't exist while trying to open it for reading"
      ],
      "metadata": {
        "id": "LXLveK8Yd_ds"
      }
    },
    {
      "cell_type": "code",
      "source": [
        "try:\n",
        "    with open('nonexistent_file.txt', 'r') as file:\n",
        "        content = file.read()\n",
        "except FileNotFoundError:\n",
        "    print(\"The file does not exist.\")\n"
      ],
      "metadata": {
        "colab": {
          "base_uri": "https://localhost:8080/"
        },
        "id": "XzaMKDOeWjf4",
        "outputId": "daac0ca4-7a04-4506-b8b2-fe878f1acb65"
      },
      "execution_count": 4,
      "outputs": [
        {
          "output_type": "stream",
          "name": "stdout",
          "text": [
            "The file does not exist.\n"
          ]
        }
      ]
    },
    {
      "cell_type": "markdown",
      "source": [
        "#Q4Write a Python script that reads from one file and writes its content to another file"
      ],
      "metadata": {
        "id": "ZGrU0WXxeNOa"
      }
    },
    {
      "cell_type": "markdown",
      "source": [],
      "metadata": {
        "id": "jC6kDciae7Vm"
      }
    },
    {
      "cell_type": "code",
      "source": [],
      "metadata": {
        "id": "EaqEMa2xeSuL"
      },
      "execution_count": 8,
      "outputs": []
    },
    {
      "cell_type": "markdown",
      "source": [
        "#Q5  How would you catch and handle division by zero error in Python  "
      ],
      "metadata": {
        "id": "Xs4FUUvweTYL"
      }
    },
    {
      "cell_type": "code",
      "source": [
        "try:\n",
        "    result = 10 / 0\n",
        "except ZeroDivisionError:\n",
        "    print(\"Cannot divide by zero!\")\n"
      ],
      "metadata": {
        "colab": {
          "base_uri": "https://localhost:8080/"
        },
        "id": "QcCjKH46elrR",
        "outputId": "6e69605e-6e65-4940-fbea-786666cd7530"
      },
      "execution_count": 7,
      "outputs": [
        {
          "output_type": "stream",
          "name": "stdout",
          "text": [
            "Cannot divide by zero!\n"
          ]
        }
      ]
    },
    {
      "cell_type": "markdown",
      "source": [
        "#Q6  Write a Python program that logs an error message to a log file when a division by zero exception occurs"
      ],
      "metadata": {
        "id": "TP53clY9eoOC"
      }
    },
    {
      "cell_type": "markdown",
      "source": [],
      "metadata": {
        "id": "AXU-T1Nne--B"
      }
    },
    {
      "cell_type": "code",
      "source": [
        "import logging\n",
        "\n",
        "# Set up basic logging configuration\n",
        "logging.basicConfig(filename='app.log', level=logging.ERROR)\n",
        "\n",
        "try:\n",
        "    result = 10 / 0\n",
        "except ZeroDivisionError as e:\n",
        "    logging.error(f\"Error occurred: {e}\")\n"
      ],
      "metadata": {
        "colab": {
          "base_uri": "https://localhost:8080/"
        },
        "id": "KmLRvDdEe6C2",
        "outputId": "d7d34fc2-3304-4583-e365-3615af74ca10"
      },
      "execution_count": 8,
      "outputs": [
        {
          "output_type": "stream",
          "name": "stderr",
          "text": [
            "ERROR:root:Error occurred: division by zero\n"
          ]
        }
      ]
    },
    {
      "cell_type": "markdown",
      "source": [
        "#Q7How do you log information at different levels (INFO, ERROR, WARNING) in Python using the logging module."
      ],
      "metadata": {
        "id": "SsYMoiPYfEQx"
      }
    },
    {
      "cell_type": "code",
      "source": [
        "import logging\n",
        "\n",
        "logging.basicConfig(level=logging.DEBUG)\n",
        "\n",
        "logging.debug(\"This is a debug message.\")\n",
        "logging.info(\"This is an info message.\")\n",
        "logging.warning(\"This is a warning message.\")\n",
        "logging.error(\"This is an error message.\")\n",
        "logging.critical(\"This is a critical message.\")\n"
      ],
      "metadata": {
        "colab": {
          "base_uri": "https://localhost:8080/"
        },
        "id": "O_ZcTvqBfJfD",
        "outputId": "f53899db-c71f-4e3c-d9ee-25f31c7ced65"
      },
      "execution_count": 9,
      "outputs": [
        {
          "output_type": "stream",
          "name": "stderr",
          "text": [
            "WARNING:root:This is a warning message.\n",
            "ERROR:root:This is an error message.\n",
            "CRITICAL:root:This is a critical message.\n"
          ]
        }
      ]
    },
    {
      "cell_type": "markdown",
      "source": [
        "#Q8 Write a program to handle a file opening error using exception handling"
      ],
      "metadata": {
        "id": "7BCTAWsvfJ-w"
      }
    },
    {
      "cell_type": "code",
      "source": [
        "try:\n",
        "    with open('nonexistent_file.txt', 'r') as file:\n",
        "        content = file.read()\n",
        "except FileNotFoundError:\n",
        "    print(\"File could not be opened. It doesn't exist.\")\n",
        "except IOError:\n",
        "    print(\"An error occurred while opening the file.\")\n"
      ],
      "metadata": {
        "colab": {
          "base_uri": "https://localhost:8080/"
        },
        "id": "cZ3Jqva1fOF5",
        "outputId": "f74b51e3-36bb-466a-d6e4-36bf6ba11946"
      },
      "execution_count": 10,
      "outputs": [
        {
          "output_type": "stream",
          "name": "stdout",
          "text": [
            "File could not be opened. It doesn't exist.\n"
          ]
        }
      ]
    },
    {
      "cell_type": "markdown",
      "source": [
        "#Q9  How can you read a file line by line and store its content in a list in Python"
      ],
      "metadata": {
        "id": "39WeDYmXfPGT"
      }
    },
    {
      "cell_type": "code",
      "source": [
        "lines = []\n",
        "with open('file.txt', 'r') as file:\n",
        "    for line in file:\n",
        "        lines.append(line.strip())  # strip() to remove the newline\n",
        "print(lines)\n"
      ],
      "metadata": {
        "colab": {
          "base_uri": "https://localhost:8080/"
        },
        "id": "h_WXPM83fTcj",
        "outputId": "33d75592-17f8-4ca7-bc98-6597b81fcf99"
      },
      "execution_count": 11,
      "outputs": [
        {
          "output_type": "stream",
          "name": "stdout",
          "text": [
            "['This is a test string.']\n"
          ]
        }
      ]
    },
    {
      "cell_type": "markdown",
      "source": [
        "#Q10How can you append data to an existing file in Python"
      ],
      "metadata": {
        "id": "q0SZ_MtDfUQr"
      }
    },
    {
      "cell_type": "code",
      "source": [
        "with open('file.txt', 'a') as file:\n",
        "    file.write(\"This is new content appended to the file.\\n\")\n"
      ],
      "metadata": {
        "id": "PH7dlYPfivMh"
      },
      "execution_count": 12,
      "outputs": []
    },
    {
      "cell_type": "markdown",
      "source": [
        "#Q11Write a Python program that uses a try-except block to handle an error when attempting to access a dictionary key that doesn't exist"
      ],
      "metadata": {
        "id": "kWBau52OiwHY"
      }
    },
    {
      "cell_type": "code",
      "source": [
        "my_dict = {'key1': 'value1'}\n",
        "\n",
        "try:\n",
        "    value = my_dict['nonexistent_key']\n",
        "except KeyError:\n",
        "    print(\"The key does not exist in the dictionary.\")\n"
      ],
      "metadata": {
        "colab": {
          "base_uri": "https://localhost:8080/"
        },
        "id": "IYr-y29ti0yd",
        "outputId": "dc736160-0240-49da-9a8c-0c6ed3652c00"
      },
      "execution_count": 13,
      "outputs": [
        {
          "output_type": "stream",
          "name": "stdout",
          "text": [
            "The key does not exist in the dictionary.\n"
          ]
        }
      ]
    },
    {
      "cell_type": "markdown",
      "source": [
        "#Q12 Write a program that demonstrates using multiple except blocks to handle different types of exceptions"
      ],
      "metadata": {
        "id": "Tw0pP1-Gi1zq"
      }
    },
    {
      "cell_type": "code",
      "source": [
        "try:\n",
        "    num = int(input(\"Enter a number: \"))\n",
        "    result = 10 / num\n",
        "except ValueError:\n",
        "    print(\"You did not enter a valid number.\")\n",
        "except ZeroDivisionError:\n",
        "    print(\"Cannot divide by zero!\")\n"
      ],
      "metadata": {
        "id": "zzzb3iOqi7aT"
      },
      "execution_count": null,
      "outputs": []
    },
    {
      "cell_type": "markdown",
      "source": [
        "#13 How would you check if a file exists before attempting to read it in Python"
      ],
      "metadata": {
        "id": "d2M0eWjdi8ZT"
      }
    },
    {
      "cell_type": "code",
      "source": [
        "import os\n",
        "\n",
        "if os.path.exists('file.txt'):\n",
        "    with open('file.txt', 'r') as file:\n",
        "        content = file.read()\n",
        "else:\n",
        "    print(\"The file does not exist.\")\n"
      ],
      "metadata": {
        "id": "cS82RxLfjB3H"
      },
      "execution_count": null,
      "outputs": []
    },
    {
      "cell_type": "markdown",
      "source": [
        "#Q14 Write a program that uses the logging module to log both informational and error messages"
      ],
      "metadata": {
        "id": "ph6-LC5njCez"
      }
    },
    {
      "cell_type": "code",
      "source": [
        "import logging\n",
        "\n",
        "logging.basicConfig(filename='app.log', level=logging.DEBUG)\n",
        "\n",
        "logging.info(\"This is an info message.\")\n",
        "try:\n",
        "    result = 10 / 0\n",
        "except ZeroDivisionError as e:\n",
        "    logging.error(f\"Error occurred: {e}\")\n"
      ],
      "metadata": {
        "id": "013-IeKyjHa-"
      },
      "execution_count": null,
      "outputs": []
    },
    {
      "cell_type": "markdown",
      "source": [
        "#Q15 Write a Python program that prints the content of a file and handles the case when the file is empty"
      ],
      "metadata": {
        "id": "n02JGD8sjIEr"
      }
    },
    {
      "cell_type": "code",
      "source": [
        "try:\n",
        "    with open('file.txt', 'r') as file:\n",
        "        content = file.read()\n",
        "        if content:\n",
        "            print(content)\n",
        "        else:\n",
        "            print(\"The file is empty.\")\n",
        "except FileNotFoundError:\n",
        "    print(\"The file does not exist.\")\n"
      ],
      "metadata": {
        "id": "yeLhghhrjMvu"
      },
      "execution_count": null,
      "outputs": []
    },
    {
      "cell_type": "markdown",
      "source": [
        "#Q16 Demonstrate how to use memory profiling to check the memory usage of a small program"
      ],
      "metadata": {
        "id": "ii4A-HmajNa1"
      }
    },
    {
      "cell_type": "code",
      "source": [
        "# You need to install the memory profiler module first: pip install memory-profiler\n",
        "from memory_profiler import profile\n",
        "\n",
        "@profile\n",
        "def my_function():\n",
        "    x = [i for i in range(10000)]\n",
        "    return x\n",
        "\n",
        "my_function()\n"
      ],
      "metadata": {
        "id": "YkyWXowLjTZy"
      },
      "execution_count": null,
      "outputs": []
    },
    {
      "cell_type": "markdown",
      "source": [
        "#Q17 Write a Python program to create and write a list of numbers to a file, one number per line"
      ],
      "metadata": {
        "id": "n5Cs32qBjWGP"
      }
    },
    {
      "cell_type": "code",
      "source": [
        "numbers = [1, 2, 3, 4, 5]\n",
        "with open('numbers.txt', 'w') as file:\n",
        "    for number in numbers:\n",
        "        file.write(f\"{number}\\n\")\n",
        "\n"
      ],
      "metadata": {
        "id": "yCACkAWUja1d"
      },
      "execution_count": null,
      "outputs": []
    },
    {
      "cell_type": "markdown",
      "source": [
        "#Q18 How would you implement a basic logging setup that logs to a file with rotation after 1MB"
      ],
      "metadata": {
        "id": "QC1kqP9Njbyq"
      }
    },
    {
      "cell_type": "code",
      "source": [
        "import logging\n",
        "from logging.handlers import RotatingFileHandler\n",
        "\n",
        "# Create a rotating file handler that rotates when the file size reaches 1MB\n",
        "handler = RotatingFileHandler('app.log', maxBytes=1e6, backupCount=3)\n",
        "logging.basicConfig(level=logging.DEBUG, handlers=[handler])\n",
        "\n",
        "logging.debug(\"This is a debug message.\")\n",
        "logging.info(\"This is an info message.\")\n",
        "logging.error(\"This is an error message.\")\n"
      ],
      "metadata": {
        "id": "OstmWCGojglZ"
      },
      "execution_count": null,
      "outputs": []
    },
    {
      "cell_type": "markdown",
      "source": [
        "#Q19 Write a program that handles both IndexError and KeyError using a try-except block"
      ],
      "metadata": {
        "id": "kvJsEy5djhM2"
      }
    },
    {
      "cell_type": "code",
      "source": [
        "my_list = [1, 2, 3]\n",
        "my_dict = {'key1': 'value1'}\n",
        "\n",
        "try:\n",
        "    print(my_list[5])\n",
        "except IndexError:\n",
        "    print(\"Index out of range.\")\n",
        "\n",
        "try:\n",
        "    print(my_dict['nonexistent_key'])\n",
        "except KeyError:\n",
        "    print(\"Key does not exist.\")\n"
      ],
      "metadata": {
        "id": "oEh57QIljlmu"
      },
      "execution_count": null,
      "outputs": []
    },
    {
      "cell_type": "markdown",
      "source": [
        "#Q20 How would you open a file and read its contents using a context manager in Python"
      ],
      "metadata": {
        "id": "qIdrVTRrjmkj"
      }
    },
    {
      "cell_type": "code",
      "source": [
        "with open('file.txt', 'r') as file:\n",
        "    content = file.read()\n",
        "    print(content)\n"
      ],
      "metadata": {
        "id": "YSSyLQv8jq3x"
      },
      "execution_count": null,
      "outputs": []
    },
    {
      "cell_type": "markdown",
      "source": [
        "#Q21 Write a Python program that reads a file and prints the number of occurrences of a specific word"
      ],
      "metadata": {
        "id": "o04T3Iepjr_j"
      }
    },
    {
      "cell_type": "code",
      "source": [
        "def count_word_occurrences(file_path, word):\n",
        "    try:\n",
        "        with open(file_path, 'r') as file:\n",
        "            content = file.read()\n",
        "            word_count = content.lower().split().count(word.lower())\n",
        "            print(f\"The word '{word}' appears {word_count} times in the file.\")\n",
        "    except FileNotFoundError:\n",
        "        print(f\"The file '{file_path}' does not exist.\")\n",
        "\n",
        "# Example usage\n",
        "count_word_occurrences('example.txt', 'python')\n"
      ],
      "metadata": {
        "id": "zSJTVpqZjwz8"
      },
      "execution_count": null,
      "outputs": []
    },
    {
      "cell_type": "markdown",
      "source": [
        "#Q22 How can you check if a file is empty before attempting to read its contents"
      ],
      "metadata": {
        "id": "zs7hCkfgjxaD"
      }
    },
    {
      "cell_type": "code",
      "source": [
        "import os\n",
        "\n",
        "def is_file_empty(file_path):\n",
        "    return os.stat(file_path).st_size == 0\n",
        "\n",
        "def read_file(file_path):\n",
        "    if is_file_empty(file_path):\n",
        "        print(f\"The file '{file_path}' is empty.\")\n",
        "    else:\n",
        "        try:\n",
        "            with open(file_path, 'r') as file:\n",
        "                content = file.read()\n",
        "                print(content)\n",
        "        except FileNotFoundError:\n",
        "            print(f\"The file '{file_path}' does not exist.\")\n",
        "\n",
        "# Example usage\n",
        "read_file('example.txt')\n",
        "\n"
      ],
      "metadata": {
        "id": "iWtffciKj2R-"
      },
      "execution_count": null,
      "outputs": []
    },
    {
      "cell_type": "markdown",
      "source": [
        "#Q23 Write a Python program that writes to a log file when an error occurs during file handling."
      ],
      "metadata": {
        "id": "CyFcy2ACj29c"
      }
    },
    {
      "cell_type": "code",
      "source": [
        "import logging\n",
        "\n",
        "# Set up logging to log to a file\n",
        "logging.basicConfig(filename='file_handling.log', level=logging.ERROR)\n",
        "\n",
        "def read_file_with_logging(file_path):\n",
        "    try:\n",
        "        with open(file_path, 'r') as file:\n",
        "            content = file.read()\n",
        "            print(content)\n",
        "    except FileNotFoundError:\n",
        "        error_message = f\"Error: The file '{file_path}' does not exist.\"\n",
        "        logging.error(error_message)\n",
        "        print(error_message)\n",
        "    except IOError as e:\n",
        "        error_message = f\"IOError occurred while handling the file '{file_path}': {e}\"\n",
        "        logging.error(error_message)\n",
        "        print(error_message)\n",
        "\n",
        "# Example usage\n",
        "read_file_with_logging('nonexistent_file.txt')\n"
      ],
      "metadata": {
        "id": "ogIDYqxcj7JC"
      },
      "execution_count": null,
      "outputs": []
    },
    {
      "cell_type": "code",
      "source": [],
      "metadata": {
        "id": "AZd7UBznlOA7"
      },
      "execution_count": null,
      "outputs": []
    }
  ]
}